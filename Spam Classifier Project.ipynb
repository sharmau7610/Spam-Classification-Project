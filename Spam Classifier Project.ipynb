{
 "cells": [
  {
   "cell_type": "markdown",
   "id": "f246c38a",
   "metadata": {},
   "source": [
    "# SPAM DETECTION PROJECT\n",
    "#### Email Spam Detection is a classification problem in machine learning where the objective is to classify an email as spam or not spam.\n",
    "#### Email spam detection is a crucial problem in modern communication. Spam emails are unsolicited messages sent in bulk to multiple recipients. The high volume of such emails can lead to a significant amount of time waste for the recipient.\n",
    "\n",
    "To solve this problem, we have used the following approach:\n",
    "1. Load the dataset: We have loaded the dataset of emails and labels indicating whether it is \n",
    "    spam or not.\n",
    "2. Split the dataset into training and testing data: To train and evaluate the model, we have \n",
    "    split the \n",
    "    dataset into training and testing data.\n",
    "3. Convert text to numerical data using TF-IDF: As machine learning models can only process numerical \n",
    "    data, we have used the TF-IDF vectorizer to convert text data into numerical data.\n",
    "4. Next, we will use Synthetic Minority Over-sampling Technique (SMOTE) to address the problem of \n",
    "imbalanced data. In spam detection, \n",
    "the number of spam emails is often much larger than the number of legitimate emails. This imbalance \n",
    "can lead to a biased model that doesn't perform well on the minority \n",
    "class (legitimate emails). SMOTE creates synthetic samples of the minority class to balance the data.\n",
    "5. After preprocessing the data, we will use chi-squared test for feature selection. \n",
    "The chi-squared test is a statistical test that measures the independence of two categorical \n",
    "variables. We will use this test to select the most important features for our model.\n",
    "6. Finally, we will train a logistic regression model on the preprocessed data. Logistic regression \n",
    "is a type of supervised machine learning algorithm that can be used for binary classification \n",
    "problems. After training the model, we will test it on the test set and evaluate its performance \n",
    "using metrics such as accuracy, precision, recall, and F1 score."
   ]
  },
  {
   "cell_type": "markdown",
   "id": "6af1c730",
   "metadata": {},
   "source": [
    "### _Import Libraries_"
   ]
  },
  {
   "cell_type": "code",
   "execution_count": 1,
   "id": "10819e83",
   "metadata": {},
   "outputs": [],
   "source": [
    "import numpy as np\n",
    "import pandas as pd\n",
    "\n",
    "import matplotlib.pyplot as plt\n",
    "import seaborn as sns\n",
    "\n",
    "from sklearn.preprocessing import LabelEncoder\n",
    "from sklearn.model_selection import train_test_split\n",
    "from sklearn.feature_extraction.text import TfidfVectorizer\n",
    "from imblearn.over_sampling import SMOTE\n",
    "from sklearn.feature_selection import SelectKBest, chi2\n",
    "\n",
    "from sklearn.linear_model import LogisticRegression\n",
    "from sklearn.svm import SVC\n",
    "from sklearn.naive_bayes import MultinomialNB\n",
    "from sklearn.pipeline import Pipeline\n",
    "\n",
    "from sklearn.metrics import accuracy_score, precision_score, recall_score, f1_score, confusion_matrix, roc_auc_score, roc_curve, auc\n",
    "\n",
    "import tkinter as tk\n",
    "from tkinter import ttk\n",
    "\n",
    "import warnings\n",
    "warnings.filterwarnings(\"ignore\")"
   ]
  },
  {
   "cell_type": "markdown",
   "id": "dc4a43c9",
   "metadata": {},
   "source": [
    "##### _Loading the data from csv file to pandas Dataframe_"
   ]
  },
  {
   "cell_type": "code",
   "execution_count": 2,
   "id": "51eddb88",
   "metadata": {},
   "outputs": [],
   "source": [
    "df = pd.read_csv(r'C:\\Users\\hp\\OneDrive\\Desktop\\mail_data.csv')"
   ]
  },
  {
   "cell_type": "code",
   "execution_count": 3,
   "id": "b5bdc8d7",
   "metadata": {},
   "outputs": [
    {
     "data": {
      "text/html": [
       "<div>\n",
       "<style scoped>\n",
       "    .dataframe tbody tr th:only-of-type {\n",
       "        vertical-align: middle;\n",
       "    }\n",
       "\n",
       "    .dataframe tbody tr th {\n",
       "        vertical-align: top;\n",
       "    }\n",
       "\n",
       "    .dataframe thead th {\n",
       "        text-align: right;\n",
       "    }\n",
       "</style>\n",
       "<table border=\"1\" class=\"dataframe\">\n",
       "  <thead>\n",
       "    <tr style=\"text-align: right;\">\n",
       "      <th></th>\n",
       "      <th>Category</th>\n",
       "      <th>Message</th>\n",
       "    </tr>\n",
       "  </thead>\n",
       "  <tbody>\n",
       "    <tr>\n",
       "      <th>1975</th>\n",
       "      <td>ham</td>\n",
       "      <td>Thats cool. Where should i cum? On you or in y...</td>\n",
       "    </tr>\n",
       "    <tr>\n",
       "      <th>1035</th>\n",
       "      <td>ham</td>\n",
       "      <td>ZOE IT JUST HIT ME 2 IM FUCKING SHITIN MYSELF ...</td>\n",
       "    </tr>\n",
       "    <tr>\n",
       "      <th>1872</th>\n",
       "      <td>ham</td>\n",
       "      <td>Dont know supports ass and srt i thnk. I think...</td>\n",
       "    </tr>\n",
       "    <tr>\n",
       "      <th>3703</th>\n",
       "      <td>ham</td>\n",
       "      <td>Hey loverboy! I love you !! I had to tell ... ...</td>\n",
       "    </tr>\n",
       "    <tr>\n",
       "      <th>4691</th>\n",
       "      <td>ham</td>\n",
       "      <td>Ok no prob</td>\n",
       "    </tr>\n",
       "  </tbody>\n",
       "</table>\n",
       "</div>"
      ],
      "text/plain": [
       "     Category                                            Message\n",
       "1975      ham  Thats cool. Where should i cum? On you or in y...\n",
       "1035      ham  ZOE IT JUST HIT ME 2 IM FUCKING SHITIN MYSELF ...\n",
       "1872      ham  Dont know supports ass and srt i thnk. I think...\n",
       "3703      ham  Hey loverboy! I love you !! I had to tell ... ...\n",
       "4691      ham                                         Ok no prob"
      ]
     },
     "execution_count": 3,
     "metadata": {},
     "output_type": "execute_result"
    }
   ],
   "source": [
    "df.sample(5)"
   ]
  },
  {
   "cell_type": "markdown",
   "id": "5deb6896",
   "metadata": {},
   "source": [
    "##### _Data Processing_"
   ]
  },
  {
   "cell_type": "code",
   "execution_count": 4,
   "id": "4d6c245c",
   "metadata": {},
   "outputs": [
    {
     "name": "stdout",
     "output_type": "stream",
     "text": [
      "<class 'pandas.core.frame.DataFrame'>\n",
      "RangeIndex: 5572 entries, 0 to 5571\n",
      "Data columns (total 2 columns):\n",
      " #   Column    Non-Null Count  Dtype \n",
      "---  ------    --------------  ----- \n",
      " 0   Category  5572 non-null   object\n",
      " 1   Message   5572 non-null   object\n",
      "dtypes: object(2)\n",
      "memory usage: 87.2+ KB\n"
     ]
    }
   ],
   "source": [
    "df.info()"
   ]
  },
  {
   "cell_type": "code",
   "execution_count": 5,
   "id": "653ad26e",
   "metadata": {},
   "outputs": [
    {
     "data": {
      "text/plain": [
       "Category    0\n",
       "Message     0\n",
       "dtype: int64"
      ]
     },
     "execution_count": 5,
     "metadata": {},
     "output_type": "execute_result"
    }
   ],
   "source": [
    "df.isnull().sum()"
   ]
  },
  {
   "cell_type": "code",
   "execution_count": 6,
   "id": "1bbabcb7",
   "metadata": {},
   "outputs": [],
   "source": [
    "# replace null values with a null string\n",
    "\n",
    "df = df.where((pd.notnull(df)),'')"
   ]
  },
  {
   "cell_type": "code",
   "execution_count": 7,
   "id": "d54b0e04",
   "metadata": {},
   "outputs": [
    {
     "name": "stdout",
     "output_type": "stream",
     "text": [
      "ham     4825\n",
      "spam     747\n",
      "Name: Category, dtype: int64\n"
     ]
    },
    {
     "data": {
      "text/plain": [
       "<AxesSubplot:xlabel='Category', ylabel='count'>"
      ]
     },
     "execution_count": 7,
     "metadata": {},
     "output_type": "execute_result"
    },
    {
     "data": {
      "image/png": "[encoded data removed]",
      "text/plain": [
       "<Figure size 432x288 with 1 Axes>"
      ]
     },
     "metadata": {
      "needs_background": "light"
     },
     "output_type": "display_data"
    }
   ],
   "source": [
    "print(df['Category'].value_counts())\n",
    "sns.countplot(df['Category'])"
   ]
  },
  {
   "cell_type": "code",
   "execution_count": 8,
   "id": "60524592",
   "metadata": {},
   "outputs": [
    {
     "data": {
      "text/plain": [
       "(5572, 2)"
      ]
     },
     "execution_count": 8,
     "metadata": {},
     "output_type": "execute_result"
    }
   ],
   "source": [
    "# checking the number of rows and columns in the dataframe\n",
    "df.shape "
   ]
  },
  {
   "cell_type": "code",
   "execution_count": 9,
   "id": "0feda9d0",
   "metadata": {},
   "outputs": [
    {
     "data": {
      "text/plain": [
       "415"
      ]
     },
     "execution_count": 9,
     "metadata": {},
     "output_type": "execute_result"
    }
   ],
   "source": [
    "# checking the number of duplicate values in data\n",
    "\n",
    "df.duplicated().sum()"
   ]
  },
  {
   "cell_type": "code",
   "execution_count": 10,
   "id": "62301044",
   "metadata": {},
   "outputs": [],
   "source": [
    "df = df.drop_duplicates(keep='first')"
   ]
  },
  {
   "cell_type": "code",
   "execution_count": 11,
   "id": "8308824f",
   "metadata": {},
   "outputs": [
    {
     "data": {
      "text/plain": [
       "0"
      ]
     },
     "execution_count": 11,
     "metadata": {},
     "output_type": "execute_result"
    }
   ],
   "source": [
    "df.duplicated().sum()"
   ]
  },
  {
   "cell_type": "code",
   "execution_count": 12,
   "id": "67745684",
   "metadata": {},
   "outputs": [],
   "source": [
    "# Label ham mail as 0; spam mail as 1;\n",
    "le = LabelEncoder()"
   ]
  },
  {
   "cell_type": "code",
   "execution_count": 13,
   "id": "1b6ffd45",
   "metadata": {},
   "outputs": [],
   "source": [
    "df['Category'] = le.fit_transform(df['Category'])"
   ]
  },
  {
   "cell_type": "code",
   "execution_count": 14,
   "id": "ad5bdbae",
   "metadata": {},
   "outputs": [
    {
     "name": "stdout",
     "output_type": "stream",
     "text": [
      "0    4516\n",
      "1     641\n",
      "Name: Category, dtype: int64\n"
     ]
    },
    {
     "data": {
      "text/plain": [
       "<AxesSubplot:xlabel='Category', ylabel='count'>"
      ]
     },
     "execution_count": 14,
     "metadata": {},
     "output_type": "execute_result"
    },
    {
     "data": {
      "image/png": "[encoded data removed]",
      "text/plain": [
       "<Figure size 432x288 with 1 Axes>"
      ]
     },
     "metadata": {
      "needs_background": "light"
     },
     "output_type": "display_data"
    }
   ],
   "source": [
    "print(df['Category'].value_counts())\n",
    "sns.countplot(df['Category'])"
   ]
  },
  {
   "cell_type": "markdown",
   "id": "88fc698d",
   "metadata": {},
   "source": [
    "Here clearly we have Imbalanced data.\n",
    "This can lead to problems in machine learning as the model may not perform well on the minority class. It can also result in biased models that favor the majority class."
   ]
  },
  {
   "cell_type": "code",
   "execution_count": 15,
   "id": "a8849123",
   "metadata": {},
   "outputs": [],
   "source": [
    "# Separating the data as Message and Category\n",
    "x = df['Message']\n",
    "y = df['Category']"
   ]
  },
  {
   "cell_type": "markdown",
   "id": "7c972d65",
   "metadata": {},
   "source": [
    "##### _Splitting the data into training data & test data_"
   ]
  },
  {
   "cell_type": "code",
   "execution_count": 16,
   "id": "29828eeb",
   "metadata": {},
   "outputs": [],
   "source": [
    "x_train, x_test, y_train, y_test = train_test_split(x, y, test_size=0.2, random_state=3)"
   ]
  },
  {
   "cell_type": "code",
   "execution_count": 17,
   "id": "f97cbd1e",
   "metadata": {},
   "outputs": [
    {
     "name": "stdout",
     "output_type": "stream",
     "text": [
      "(5157,)\n",
      "(4125,)\n",
      "(1032,)\n"
     ]
    }
   ],
   "source": [
    "print(x.shape)\n",
    "print(x_train.shape)\n",
    "print(x_test.shape)"
   ]
  },
  {
   "cell_type": "markdown",
   "id": "f38f63eb",
   "metadata": {},
   "source": [
    "##### _Feature Extraction_"
   ]
  },
  {
   "cell_type": "code",
   "execution_count": 18,
   "id": "c47fba00",
   "metadata": {},
   "outputs": [],
   "source": [
    "# transform the text data to feature vectors that can be used as input to the models.\n",
    "\n",
    "feature_extraction = TfidfVectorizer(min_df = 1, stop_words='english', lowercase='True')\n",
    "\n",
    "x_train_features = feature_extraction.fit_transform(x_train)\n",
    "x_test_features = feature_extraction.transform(x_test)"
   ]
  },
  {
   "cell_type": "markdown",
   "id": "fb3e1612",
   "metadata": {},
   "source": [
    "Tf-idf is used to convert text into numerical features, which allows the model to better understand and differentiate between the words in emails and determine if they are spam or not."
   ]
  },
  {
   "cell_type": "markdown",
   "id": "0a702ea0",
   "metadata": {},
   "source": [
    "##### _Handling Imbalanced Data_"
   ]
  },
  {
   "cell_type": "code",
   "execution_count": 19,
   "id": "770cdb03",
   "metadata": {},
   "outputs": [],
   "source": [
    "sm = SMOTE(sampling_strategy='auto',random_state=None,k_neighbors=3)\n",
    "\n",
    "x_res, y_res = sm.fit_resample(x_train_features, y_train)"
   ]
  },
  {
   "cell_type": "markdown",
   "id": "bb130088",
   "metadata": {},
   "source": [
    "SMOTE is used in this dataset to balance the class distribution of the training data. The dataset is imbalanced, meaning that the number of non-spam emails is much higher than the number of spam emails. This can result in a biased model that is more likely to predict non-spam emails. SMOTE generates synthetic samples of the minority class (spam emails) to balance the class distribution and prevent this bias."
   ]
  },
  {
   "cell_type": "markdown",
   "id": "1c8bf590",
   "metadata": {},
   "source": [
    "##### _Feature Selection_"
   ]
  },
  {
   "cell_type": "code",
   "execution_count": 20,
   "id": "fa16fbd3",
   "metadata": {},
   "outputs": [],
   "source": [
    "selector = SelectKBest(chi2, k='all')\n",
    "x_train_res = selector.fit_transform(x_res, y_res)\n",
    "x_test_res = selector.transform(x_test_features)"
   ]
  },
  {
   "cell_type": "markdown",
   "id": "345087df",
   "metadata": {},
   "source": [
    "Chi2 is used in this dataset for feature selection. It measures the dependence between each feature and the target variable. The higher the chi2 score, the more important the feature is for the classification. By selecting the top K best features, we can reduce the dimensionality of the data and improve the performance of the model. This is particularly important for sparse datasets like this one where many features may not contribute much to the prediction."
   ]
  },
  {
   "cell_type": "code",
   "execution_count": 21,
   "id": "2515179c",
   "metadata": {},
   "outputs": [
    {
     "name": "stdout",
     "output_type": "stream",
     "text": [
      "  (0, 6692)\t0.48303813512243965\n",
      "  (0, 6605)\t0.4898673616987752\n",
      "  (0, 1247)\t0.5538832733861689\n",
      "  (0, 2400)\t0.4689535663823655\n",
      "  (1, 1592)\t0.5594126567616489\n",
      "  (1, 5859)\t0.5964494866231046\n",
      "  (1, 6492)\t0.5755914257195885\n",
      "  (2, 300)\t0.16113294658934302\n",
      "  (2, 820)\t0.24488128414489752\n",
      "  (2, 6835)\t0.24488128414489752\n",
      "  (2, 5064)\t0.22967525805125708\n",
      "  (2, 7355)\t0.21568440262445418\n",
      "  (2, 682)\t0.22967525805125708\n",
      "  (2, 25)\t0.24488128414489752\n",
      "  (2, 2564)\t0.19505111090227498\n",
      "  (2, 798)\t0.24488128414489752\n",
      "  (2, 4393)\t0.24488128414489752\n",
      "  (2, 4520)\t0.24488128414489752\n",
      "  (2, 4519)\t0.24488128414489752\n",
      "  (2, 4084)\t0.2644704778405301\n",
      "  (2, 6828)\t0.13848562282513652\n",
      "  (2, 3252)\t0.18176623831152225\n",
      "  (2, 3695)\t0.21568440262445418\n",
      "  (2, 4522)\t0.2363176943466334\n",
      "  (2, 4089)\t0.2196593047164816\n",
      "  :\t:\n",
      "  (4120, 1223)\t0.5846719438819551\n",
      "  (4120, 6456)\t0.4751891362657192\n",
      "  (4120, 3181)\t0.4285103741434733\n",
      "  (4120, 3921)\t0.39220487670240334\n",
      "  (4120, 2101)\t0.30807173962343376\n",
      "  (4121, 5968)\t0.4786671802830861\n",
      "  (4121, 6283)\t0.4786671802830861\n",
      "  (4121, 2234)\t0.4017927559446723\n",
      "  (4121, 7093)\t0.30479406961757016\n",
      "  (4121, 1827)\t0.4699620412025258\n",
      "  (4121, 4064)\t0.25798119556428833\n",
      "  (4122, 5830)\t0.46450686818513914\n",
      "  (4122, 4342)\t0.4905868510580283\n",
      "  (4122, 6119)\t0.4868051225603611\n",
      "  (4122, 3818)\t0.31447423988339285\n",
      "  (4122, 3138)\t0.3215825654206297\n",
      "  (4122, 4105)\t0.32290755595687465\n",
      "  (4123, 5720)\t0.571842199779247\n",
      "  (4123, 1595)\t0.4589070366947927\n",
      "  (4123, 1264)\t0.3822287755202981\n",
      "  (4123, 7365)\t0.3402075943627085\n",
      "  (4123, 5192)\t0.4478401345634717\n",
      "  (4124, 7316)\t0.7095407247401689\n",
      "  (4124, 4681)\t0.5199862107431475\n",
      "  (4124, 6597)\t0.47556944873717305\n"
     ]
    }
   ],
   "source": [
    "print(x_train_features)"
   ]
  },
  {
   "cell_type": "markdown",
   "id": "720b5283",
   "metadata": {},
   "source": [
    "### _Training the Models_"
   ]
  },
  {
   "cell_type": "code",
   "execution_count": 22,
   "id": "c0ce31ff",
   "metadata": {},
   "outputs": [],
   "source": [
    "# Creating a dictionary for updating model results\n",
    "results = {}"
   ]
  },
  {
   "cell_type": "markdown",
   "id": "e9500805",
   "metadata": {},
   "source": [
    "##### _a. Logistic Regression_"
   ]
  },
  {
   "cell_type": "code",
   "execution_count": 23,
   "id": "4677eb62",
   "metadata": {},
   "outputs": [],
   "source": [
    "model_LR = LogisticRegression(max_iter=100, penalty='l2')\n",
    "model_LR.fit(x_train_res, y_res)\n",
    "\n",
    "# prediction\n",
    "y_pred_LR = model_LR.predict(x_test_res)\n",
    "\n",
    "# Evaluation of Model\n",
    "accuracy_LR = accuracy_score(y_test, y_pred_LR)\n",
    "precision_LR = precision_score(y_test, y_pred_LR)\n",
    "recall_LR = recall_score(y_test, y_pred_LR)\n",
    "f1_LR = f1_score(y_test, y_pred_LR)\n",
    "\n",
    "results[\"Logistic Regression\"] = {\"accuracy\": accuracy_LR, \n",
    "                                  \"precision\": precision_LR, \n",
    "                                  \"recall\": recall_LR, \n",
    "                                  \"f1_score\": f1_LR\n",
    "                                 }"
   ]
  },
  {
   "cell_type": "markdown",
   "id": "a106d7fa",
   "metadata": {},
   "source": [
    "Logistic regression is used in this dataset because it is a simple and effective method for binary classification problems, such as spam detection. Logistic regression models the relationship between the independent variables and the probability of the target variable being either 0 or 1. The model outputs a probability score, which can be thresholded to produce binary predictions. Logistic regression is also well-suited to high dimensional datasets, which is why we have used it here after feature selection with chi2."
   ]
  },
  {
   "cell_type": "markdown",
   "id": "3fbdba6e",
   "metadata": {},
   "source": [
    "#####  _b. Support Vector Machine_"
   ]
  },
  {
   "cell_type": "code",
   "execution_count": 24,
   "id": "5871629f",
   "metadata": {},
   "outputs": [],
   "source": [
    "model_SVM = SVC(kernel='linear')\n",
    "model_SVM.fit(x_train_res, y_res)\n",
    "\n",
    "# prediction\n",
    "y_pred_SVM = model_SVM.predict(x_test_features)\n",
    "\n",
    "# Evaluation of Model\n",
    "\n",
    "accuracy_SVM = accuracy_score(y_test, y_pred_SVM)\n",
    "precision_SVM = precision_score(y_test, y_pred_SVM)\n",
    "recall_SVM = recall_score(y_test, y_pred_SVM)\n",
    "f1_SVM = f1_score(y_test, y_pred_SVM)\n",
    "\n",
    "results[\"SVM\"] = {\"accuracy\": accuracy_SVM, \n",
    "                  \"precision\": precision_SVM, \n",
    "                  \"recall\": recall_SVM, \n",
    "                  \"f1_score\": f1_SVM\n",
    "                  }"
   ]
  },
  {
   "cell_type": "markdown",
   "id": "66b3f583",
   "metadata": {},
   "source": [
    "Support Vector Machine (SVM) is used in this dataset for classification. SVM is a powerful algorithm for both linear and non-linear classification problems. It tries to find a hyperplane that maximally separates the classes and is robust to outliers. SVM is particularly useful for datasets with high-dimensional features like this one. By using a linear kernel, we can achieve good performance while avoiding overfitting and improving interpretability."
   ]
  },
  {
   "cell_type": "markdown",
   "id": "699564dd",
   "metadata": {},
   "source": [
    "##### _c. Multinomial Naive Bayes_"
   ]
  },
  {
   "cell_type": "code",
   "execution_count": 25,
   "id": "ea4b6dc8",
   "metadata": {},
   "outputs": [],
   "source": [
    "model_MNB = MultinomialNB()\n",
    "model_MNB.fit(x_train_res, y_res)\n",
    "\n",
    "# prediction\n",
    "y_pred_MNB = model_MNB.predict(x_test_features)\n",
    "\n",
    "# Evaluation of Model\n",
    "\n",
    "accuracy_MNB = accuracy_score(y_test, y_pred_MNB)\n",
    "precision_MNB = precision_score(y_test, y_pred_MNB)\n",
    "recall_MNB = recall_score(y_test, y_pred_MNB)\n",
    "f1_MNB = f1_score(y_test, y_pred_MNB)\n",
    "\n",
    "results[\"Multinomial Naive Bayes\"] = {\"accuracy\": accuracy_MNB, \n",
    "                          \"precision\": precision_MNB, \n",
    "                          \"recall\": recall_MNB, \n",
    "                          \"f1_score\": f1_MNB\n",
    "                         }"
   ]
  },
  {
   "cell_type": "markdown",
   "id": "a8544050",
   "metadata": {},
   "source": [
    "Multinomial naive bayes is used in this dataset because it is a fast and simple algorithm for text classification. It is based on Bayes theorem and assumes that the features are independent and follows a multinomial distribution. This algorithm works well with sparse data, such as text data, and has been widely used in spam filtering tasks. By combining it with the preprocessing steps of train_test_split, tfidf, smote, and chi2, we can achieve a high accuracy in detecting spam emails."
   ]
  },
  {
   "cell_type": "markdown",
   "id": "cb6317a7",
   "metadata": {},
   "source": [
    "###### Results of all Model"
   ]
  },
  {
   "cell_type": "code",
   "execution_count": 26,
   "id": "aae4696b",
   "metadata": {},
   "outputs": [
    {
     "data": {
      "text/html": [
       "<div>\n",
       "<style scoped>\n",
       "    .dataframe tbody tr th:only-of-type {\n",
       "        vertical-align: middle;\n",
       "    }\n",
       "\n",
       "    .dataframe tbody tr th {\n",
       "        vertical-align: top;\n",
       "    }\n",
       "\n",
       "    .dataframe thead th {\n",
       "        text-align: right;\n",
       "    }\n",
       "</style>\n",
       "<table border=\"1\" class=\"dataframe\">\n",
       "  <thead>\n",
       "    <tr style=\"text-align: right;\">\n",
       "      <th></th>\n",
       "      <th>accuracy</th>\n",
       "      <th>precision</th>\n",
       "      <th>recall</th>\n",
       "      <th>f1_score</th>\n",
       "    </tr>\n",
       "  </thead>\n",
       "  <tbody>\n",
       "    <tr>\n",
       "      <th>Logistic Regression</th>\n",
       "      <td>0.982558</td>\n",
       "      <td>0.976378</td>\n",
       "      <td>0.892086</td>\n",
       "      <td>0.932331</td>\n",
       "    </tr>\n",
       "    <tr>\n",
       "      <th>SVM</th>\n",
       "      <td>0.981589</td>\n",
       "      <td>0.961538</td>\n",
       "      <td>0.899281</td>\n",
       "      <td>0.929368</td>\n",
       "    </tr>\n",
       "    <tr>\n",
       "      <th>Multinomial Naive Bayes</th>\n",
       "      <td>0.965116</td>\n",
       "      <td>0.823899</td>\n",
       "      <td>0.942446</td>\n",
       "      <td>0.879195</td>\n",
       "    </tr>\n",
       "  </tbody>\n",
       "</table>\n",
       "</div>"
      ],
      "text/plain": [
       "                         accuracy  precision    recall  f1_score\n",
       "Logistic Regression      0.982558   0.976378  0.892086  0.932331\n",
       "SVM                      0.981589   0.961538  0.899281  0.929368\n",
       "Multinomial Naive Bayes  0.965116   0.823899  0.942446  0.879195"
      ]
     },
     "execution_count": 26,
     "metadata": {},
     "output_type": "execute_result"
    }
   ],
   "source": [
    "df_results = pd.DataFrame.from_dict(results, orient='index')\n",
    "\n",
    "df_results"
   ]
  },
  {
   "cell_type": "code",
   "execution_count": 27,
   "id": "1f47980b",
   "metadata": {},
   "outputs": [
    {
     "data": {
      "image/png": "[encoded data removed]",
      "text/plain": [
       "<Figure size 360x360 with 1 Axes>"
      ]
     },
     "metadata": {
      "needs_background": "light"
     },
     "output_type": "display_data"
    }
   ],
   "source": [
    "plt.figure(figsize=(5,5))\n",
    "plt.bar(results.keys(), [result[\"accuracy\"] for result in results.values()])\n",
    "plt.title(\"Accuracy of Different Models\")\n",
    "plt.xlabel(\"Models\")\n",
    "plt.ylabel(\"Accuracy\")\n",
    "plt.ylim(0, 1)\n",
    "plt.show()"
   ]
  },
  {
   "cell_type": "code",
   "execution_count": 28,
   "id": "fd24f675",
   "metadata": {},
   "outputs": [
    {
     "data": {
      "image/png": "[encoded data removed]",
      "text/plain": [
       "<Figure size 360x360 with 1 Axes>"
      ]
     },
     "metadata": {
      "needs_background": "light"
     },
     "output_type": "display_data"
    }
   ],
   "source": [
    "plt.figure(figsize=(5,5))\n",
    "plt.bar(results.keys(), [result[\"precision\"] for result in results.values()], color='g')\n",
    "plt.title(\"Precision of Different Models\")\n",
    "plt.xlabel(\"Models\")\n",
    "plt.ylabel(\"Precision\")\n",
    "plt.ylim(0, 1)\n",
    "plt.show()"
   ]
  },
  {
   "cell_type": "code",
   "execution_count": 29,
   "id": "b2b194b5",
   "metadata": {},
   "outputs": [
    {
     "data": {
      "image/png": "[encoded data removed]",
      "text/plain": [
       "<Figure size 360x360 with 1 Axes>"
      ]
     },
     "metadata": {
      "needs_background": "light"
     },
     "output_type": "display_data"
    }
   ],
   "source": [
    "plt.figure(figsize=(5,5))\n",
    "plt.bar(results.keys(), [result[\"recall\"] for result in results.values()], color='r')\n",
    "plt.title(\"Recall of Different Models\")\n",
    "plt.xlabel(\"Models\")\n",
    "plt.ylabel(\"Recall\")\n",
    "plt.ylim(0, 1)\n",
    "plt.show()"
   ]
  },
  {
   "cell_type": "code",
   "execution_count": 30,
   "id": "138262d1",
   "metadata": {},
   "outputs": [
    {
     "data": {
      "image/png": "[encoded data removed]",
      "text/plain": [
       "<Figure size 360x360 with 1 Axes>"
      ]
     },
     "metadata": {
      "needs_background": "light"
     },
     "output_type": "display_data"
    }
   ],
   "source": [
    "plt.figure(figsize=(5,5))\n",
    "plt.bar(results.keys(), [result[\"f1_score\"] for result in results.values()], color='y')\n",
    "plt.title(\"F1-Score of Different Models\")\n",
    "plt.xlabel(\"Models\")\n",
    "plt.ylabel(\"F1-Score\")\n",
    "plt.ylim(0, 1)\n",
    "plt.show()\n",
    "\n"
   ]
  },
  {
   "cell_type": "markdown",
   "id": "05383d87",
   "metadata": {},
   "source": [
    "##### AUC, ROC Curve"
   ]
  },
  {
   "cell_type": "code",
   "execution_count": 31,
   "id": "1b98c23c",
   "metadata": {
    "scrolled": true
   },
   "outputs": [
    {
     "data": {
      "image/png": "[encoded data removed]",
      "text/plain": [
       "<Figure size 500x500 with 1 Axes>"
      ]
     },
     "metadata": {
      "needs_background": "light"
     },
     "output_type": "display_data"
    }
   ],
   "source": [
    "logistic_fpr, logistic_tpr, threshold = roc_curve(y_test, y_pred_LR)\n",
    "auc_logistic = auc(logistic_fpr, logistic_tpr)\n",
    "\n",
    "svm_fpr, svm_tpr, threshold = roc_curve(y_test, y_pred_SVM)\n",
    "auc_svm = auc(svm_fpr, svm_tpr)\n",
    "\n",
    "mnb_fpr, mnb_tpr, threshold = roc_curve(y_test, y_pred_MNB)\n",
    "auc_mnb = auc(mnb_fpr, mnb_tpr)\n",
    "\n",
    "plt.figure(figsize=(5, 5), dpi=100)\n",
    "plt.plot(svm_fpr, svm_tpr, linestyle='-', label='SVM (auc = %0.3f)' % auc_svm)\n",
    "plt.plot(logistic_fpr, logistic_tpr, marker='.', label='Logistic (auc = %0.3f)' % auc_logistic)\n",
    "plt.plot(mnb_fpr, mnb_tpr, marker='.', label='MNB (auc = %0.3f)' % auc_mnb)\n",
    "\n",
    "plt.xlabel('False Positive Rate -->')\n",
    "plt.ylabel('True Positive Rate -->')\n",
    "\n",
    "plt.legend()\n",
    "\n",
    "plt.show()"
   ]
  },
  {
   "cell_type": "markdown",
   "id": "652bec52",
   "metadata": {},
   "source": [
    "##### Best Model: Support Vector Machine (SVM)\n",
    "It is clear from the Classification Report that SVM is better performing model other than Logistic Regression and Multinomial Naive Bayes.\n",
    "As Multinomial Naive Bayes has high Recall then SVM, and SVM is better in precision than Multinomial Naive Bayes, for that clearing of confusion between them we check th f1 score, for which SVM performs well with High Accuracy Score."
   ]
  },
  {
   "cell_type": "markdown",
   "id": "6aeb62d5",
   "metadata": {},
   "source": [
    "##### Prediction on Sample Input Email"
   ]
  },
  {
   "cell_type": "code",
   "execution_count": 32,
   "id": "e55b8f55",
   "metadata": {},
   "outputs": [
    {
     "name": "stdout",
     "output_type": "stream",
     "text": [
      "[1]\n",
      "Spam mail\n"
     ]
    }
   ],
   "source": [
    "input_mail = [\"Congratulations! You have won a prize. Click here to claim it.\"]\n",
    "\n",
    "input_data_features = feature_extraction.transform(input_mail)\n",
    "\n",
    "final_input = selector.transform(input_data_features)\n",
    "\n",
    "prediction = model_LR.predict(final_input)\n",
    "print(prediction)\n",
    "\n",
    "if (prediction[0]==0):\n",
    "  print('Ham mail')\n",
    "else:\n",
    "  print('Spam mail')"
   ]
  },
  {
   "cell_type": "code",
   "execution_count": 33,
   "id": "91a27173",
   "metadata": {},
   "outputs": [
    {
     "name": "stdout",
     "output_type": "stream",
     "text": [
      "[0]\n",
      "Ham mail\n"
     ]
    }
   ],
   "source": [
    "input_mail = [\"Fine if thatåÕs the way u feel. ThatåÕs the way its gota b\"]\n",
    "\n",
    "input_data_features = feature_extraction.transform(input_mail)\n",
    "\n",
    "final_input = selector.transform(input_data_features)\n",
    "\n",
    "prediction = model_LR.predict(final_input)\n",
    "print(prediction)\n",
    "\n",
    "if (prediction[0]==0):\n",
    "  print('Ham mail')\n",
    "else:\n",
    "  print('Spam mail')"
   ]
  },
  {
   "cell_type": "markdown",
   "id": "80cc6bbb",
   "metadata": {},
   "source": [
    "##### Creating a Frontend for Spam Prediction"
   ]
  },
  {
   "cell_type": "code",
   "execution_count": 34,
   "id": "5d86d1fe",
   "metadata": {},
   "outputs": [],
   "source": [
    "# Function to predict the label of a message\n",
    "def predict_spam(email):\n",
    "    email_tfidf = feature_extraction.transform([email])\n",
    "    email_f = selector.transform(email_tfidf)\n",
    "    prediction = model_SVM.predict(email_f)\n",
    "    if (prediction[0]==0):\n",
    "        return \"Ham mail\"\n",
    "    else:\n",
    "        return \"Spam mail\"\n",
    "\n",
    "# Tkinter frontend\n",
    "root = tk.Tk()\n",
    "root.title(\"Spam Detection\")\n",
    "root.geometry(\"600x300\")\n",
    "\n",
    "# Labels\n",
    "title = tk.Label(root, text=\"Enter a email to predict if it's spam or ham\")\n",
    "title.pack(pady=20)\n",
    "\n",
    "# Text entry\n",
    "email = tk.StringVar()\n",
    "email_entry = tk.Entry(root, textvariable=email, width=75)\n",
    "email_entry.pack(pady=20)\n",
    "\n",
    "# Button\n",
    "def submit():\n",
    "    result = predict_spam(email.get())\n",
    "    result_label.config(text=result)\n",
    "\n",
    "submit_button = tk.Button(root, text=\"Predict\", command=submit)\n",
    "submit_button.pack(pady=20)\n",
    "\n",
    "# Result label\n",
    "result_label = tk.Label(root, text=\"\")\n",
    "result_label.pack(pady=20)\n",
    "\n",
    "root.mainloop()"
   ]
  },
  {
   "cell_type": "code",
   "execution_count": null,
   "id": "492b1da2",
   "metadata": {},
   "outputs": [],
   "source": []
  }
 ],
 "metadata": {
  "kernelspec": {
   "display_name": "Python 3 (ipykernel)",
   "language": "python",
   "name": "python3"
  },
  "language_info": {
   "codemirror_mode": {
    "name": "ipython",
    "version": 3
   },
   "file_extension": ".py",
   "mimetype": "text/x-python",
   "name": "python",
   "nbconvert_exporter": "python",
   "pygments_lexer": "ipython3",
   "version": "3.9.7"
  }
 },
 "nbformat": 4,
 "nbformat_minor": 5
}
